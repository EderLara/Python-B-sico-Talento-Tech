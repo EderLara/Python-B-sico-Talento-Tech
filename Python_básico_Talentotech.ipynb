{
  "nbformat": 4,
  "nbformat_minor": 0,
  "metadata": {
    "colab": {
      "provenance": [],
      "authorship_tag": "ABX9TyN8ywtMHQGBqYTje+SQDlQl",
      "include_colab_link": true
    },
    "kernelspec": {
      "name": "python3",
      "display_name": "Python 3"
    },
    "language_info": {
      "name": "python"
    }
  },
  "cells": [
    {
      "cell_type": "markdown",
      "metadata": {
        "id": "view-in-github",
        "colab_type": "text"
      },
      "source": [
        "<a href=\"https://colab.research.google.com/github/EderLara/Python-B-sico-Talento-Tech/blob/main/Python_b%C3%A1sico_Talentotech.ipynb\" target=\"_parent\"><img src=\"https://colab.research.google.com/assets/colab-badge.svg\" alt=\"Open In Colab\"/></a>"
      ]
    },
    {
      "cell_type": "code",
      "execution_count": 10,
      "metadata": {
        "id": "nRF5CvrmcTzb"
      },
      "outputs": [],
      "source": [
        "# PEP8:\n",
        "# Identación:\n",
        "  # Desde Acá inicia la identación"
      ]
    },
    {
      "cell_type": "markdown",
      "source": [
        "# Cuaderno de Python Inicial\n",
        "\n",
        "Python es un lenguaje de programación interpretado."
      ],
      "metadata": {
        "id": "ZK-eUtEme3Gm"
      }
    },
    {
      "cell_type": "code",
      "source": [
        "# Variables:\n",
        "# Se escriben con la notación snake_case\n",
        "total_venta = 876000.32\n",
        "cantidad = 65\n",
        "mensaje = \"Hola Mundo!\"\n",
        "booleano = True\n",
        "print(type(total_venta), type(cantidad), type(mensaje), type(booleano))\n"
      ],
      "metadata": {
        "colab": {
          "base_uri": "https://localhost:8080/"
        },
        "id": "4THNp7HJe_Bq",
        "outputId": "812ed750-2d01-41b1-f24d-ef2ab203f98e"
      },
      "execution_count": 11,
      "outputs": [
        {
          "output_type": "stream",
          "name": "stdout",
          "text": [
            "<class 'float'> <class 'int'> <class 'str'> <class 'bool'>\n"
          ]
        }
      ]
    },
    {
      "cell_type": "code",
      "source": [
        "# Constantes:\n",
        "PI = 3.1416\n",
        "print(PI)\n",
        "DATABASE = 'https://pathurldatabase.com'\n",
        "DATABASE"
      ],
      "metadata": {
        "colab": {
          "base_uri": "https://localhost:8080/",
          "height": 53
        },
        "id": "fynh32SNhDZ1",
        "outputId": "c4a84789-988a-4162-a45b-1ded5432f632"
      },
      "execution_count": 9,
      "outputs": [
        {
          "output_type": "stream",
          "name": "stdout",
          "text": [
            "3.1416\n"
          ]
        },
        {
          "output_type": "execute_result",
          "data": {
            "text/plain": [
              "'https://pathurldatabase.com'"
            ],
            "application/vnd.google.colaboratory.intrinsic+json": {
              "type": "string"
            }
          },
          "metadata": {},
          "execution_count": 9
        }
      ]
    },
    {
      "cell_type": "markdown",
      "source": [
        "# ESTRUCTURAS DE CONTROL\n",
        "### if\n",
        "### for while"
      ],
      "metadata": {
        "id": "z2djBWWphC-N"
      }
    },
    {
      "cell_type": "code",
      "source": [
        "# Condicionales:\n",
        "condicion = False                  # Variable que condicionará la sentencia if\n",
        "mensaje = ''                      # Variable en la que capturamos el resultado\n",
        "if (condicion):\n",
        "  # codigo a ejecutar si la condicion es verdadera\n",
        "  mensaje = \"Hola Estudiantes de Talento Tech\"\n",
        "else:\n",
        "  # codigo a ejecutar si la condicion es falsa\n",
        "  mensaje = \"Bienvenido Foraneo\"\n",
        "\n",
        "print(mensaje)"
      ],
      "metadata": {
        "colab": {
          "base_uri": "https://localhost:8080/"
        },
        "id": "ozxfRWLlifZ7",
        "outputId": "bffa46b2-62d4-43f5-e8fe-ea2a5fd4580e"
      },
      "execution_count": 13,
      "outputs": [
        {
          "output_type": "stream",
          "name": "stdout",
          "text": [
            "Bienvenido Foraneo\n"
          ]
        }
      ]
    },
    {
      "cell_type": "code",
      "source": [
        "numero_condicion = 14\n",
        "resultado = ''\n",
        "if (numero_condicion < 5):\n",
        "  resultado = f'El numero es menor a 10, el numero es: {numero_condicion}'\n",
        "elif (numero_condicion > 10 and numero_condicion < 20):\n",
        "  resultado = f'El numero es mayor a 10, ya que el numero es {numero_condicion}'\n",
        "elif (numero_condicion == 10):\n",
        "  resultado = 'El numero es igual a 10'\n",
        "else:\n",
        "  resultado = 'El numero es mayor a 20'\n",
        "\n",
        "print(resultado)\n"
      ],
      "metadata": {
        "colab": {
          "base_uri": "https://localhost:8080/"
        },
        "id": "n2u0enG7jbcL",
        "outputId": "abd200bb-c444-458c-f62d-40c197583697"
      },
      "execution_count": 17,
      "outputs": [
        {
          "output_type": "stream",
          "name": "stdout",
          "text": [
            "El numero es mayor a 10, ya que el numero es 14\n"
          ]
        }
      ]
    },
    {
      "cell_type": "markdown",
      "source": [
        "Ejercicio 29:\n",
        "Una fábrica ha sido sometida a un programa de control de contaminación para lo cual se efectúa una revisión de\n",
        "los puntos IMECA generados por la fábrica. El programa de control de contaminación consiste en medir los puntos\n",
        "IMECA que emite la fabrica en cinco días de una semana y si el promedio es superior a los 170 puntos entonces\n",
        "tendrá la sanción de parar su producción por una semana y una multa del 50% de las ganancias diarias cuando no\n",
        "se detiene la producción. Si el promedio obtenido de puntos IMECA es de 170 o menor entonces no tendrá ni\n",
        "sanción ni multa. El dueño de la fábrica desea saber cuanto dinero perderá después de ser sometido a la revisión"
      ],
      "metadata": {
        "id": "N555vISnlTt6"
      }
    },
    {
      "cell_type": "code",
      "source": [
        "imeca_lunes = int(input('Ingrese el valor de IMECA '))\n",
        "imeca_martes = int(input('Ingrese el valor de IMECA '))\n",
        "imeca_miercoles = int(input('Ingrese el valor de IMECA '))\n",
        "imeca_jueves = int(input('Ingrese el valor de IMECA '))\n",
        "imeca_viernes = int(input('Ingrese el valor de IMECA '))"
      ],
      "metadata": {
        "colab": {
          "base_uri": "https://localhost:8080/"
        },
        "id": "B3e3IQSui-Um",
        "outputId": "ea80f47f-0966-481a-f8ba-cb32a622a92d"
      },
      "execution_count": 21,
      "outputs": [
        {
          "name": "stdout",
          "output_type": "stream",
          "text": [
            "Ingrese el valor de IMECA 190\n",
            "Ingrese el valor de IMECA 200\n",
            "Ingrese el valor de IMECA 600\n",
            "Ingrese el valor de IMECA 100\n",
            "Ingrese el valor de IMECA 90\n"
          ]
        }
      ]
    },
    {
      "cell_type": "code",
      "source": [
        "promedio_imeca = (imeca_lunes + imeca_martes + imeca_miercoles + imeca_jueves + imeca_viernes) / 5\n",
        "print(promedio_imeca)"
      ],
      "metadata": {
        "colab": {
          "base_uri": "https://localhost:8080/"
        },
        "id": "gKWoS6SxmfOg",
        "outputId": "cd007957-c79f-4925-cab7-ba2de3376264"
      },
      "execution_count": 22,
      "outputs": [
        {
          "output_type": "stream",
          "name": "stdout",
          "text": [
            "236.0\n"
          ]
        }
      ]
    },
    {
      "cell_type": "code",
      "source": [
        "ganancia_lunes = float(input('Ingrese la ganancia del día: '))\n",
        "ganancia_martes = float(input('Ingrese la ganancia del día: '))\n",
        "ganancia_miercoles = float(input('Ingrese la ganancia del día: '))\n",
        "ganancia_jueves = float(input('Ingrese la ganancia del día: '))\n",
        "ganancia_viernes = float(input('Ingrese la ganancia del día: '))"
      ],
      "metadata": {
        "colab": {
          "base_uri": "https://localhost:8080/"
        },
        "id": "LL4_Gg1LmyK4",
        "outputId": "7ff2ebfc-2a9c-4ff5-9daa-c326242fbcd6"
      },
      "execution_count": 23,
      "outputs": [
        {
          "name": "stdout",
          "output_type": "stream",
          "text": [
            "Ingrese la ganancia del día: 250\n",
            "Ingrese la ganancia del día: 300\n",
            "Ingrese la ganancia del día: 1200\n",
            "Ingrese la ganancia del día: 160\n",
            "Ingrese la ganancia del día: 100\n"
          ]
        }
      ]
    },
    {
      "cell_type": "code",
      "source": [
        "suma_ganancias = ganancia_lunes + ganancia_martes + ganancia_miercoles + ganancia_jueves + ganancia_viernes\n",
        "\n",
        "perdida = suma_ganancias * 0.5\n"
      ],
      "metadata": {
        "id": "-jx1ai9Cngk3"
      },
      "execution_count": 25,
      "outputs": []
    },
    {
      "cell_type": "code",
      "source": [
        "if (promedio_imeca > 170):\n",
        "  mensaje = f'Por haber obtenido un promedio de {promedio_imeca} en la escala IMECA, ud será multado con una semana de no operación \\nmas el pago de ${perdida} dolares. \\nPor favor tener en cuenta las recomendaciones de la auditoría'\n",
        "else:\n",
        "  mensaje = f'Por haber obtenido un promedio de {promedio_imeca} en la escala IMECA, ud no será multado'\n",
        "print('----------------- Resultado Auditoría -----------------')"
      ],
      "metadata": {
        "colab": {
          "base_uri": "https://localhost:8080/"
        },
        "id": "6oOg2ZqPx35E",
        "outputId": "53ce16f2-4430-47db-cd21-d34f75a4e519"
      },
      "execution_count": 32,
      "outputs": [
        {
          "output_type": "stream",
          "name": "stdout",
          "text": [
            "----------------- Resultado Auditoría -----------------\n"
          ]
        }
      ]
    },
    {
      "cell_type": "code",
      "source": [
        "print(mensaje)"
      ],
      "metadata": {
        "colab": {
          "base_uri": "https://localhost:8080/"
        },
        "id": "2Fesla9ZoFWR",
        "outputId": "753fb701-753f-4e00-ffb7-a5e829b66c6e"
      },
      "execution_count": 31,
      "outputs": [
        {
          "output_type": "stream",
          "name": "stdout",
          "text": [
            "Por haber obtenido un promedio de 236.0 en la escala IMECA, ud será multado con una semana de no operación \n",
            "mas el pago de $1005.0 dolares. \n",
            "Por favor tener en cuenta las recomendaciones de la auditoría\n"
          ]
        }
      ]
    }
  ]
}