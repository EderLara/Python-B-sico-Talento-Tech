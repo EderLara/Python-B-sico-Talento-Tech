{
  "nbformat": 4,
  "nbformat_minor": 0,
  "metadata": {
    "colab": {
      "provenance": [],
      "authorship_tag": "ABX9TyOa6/4xipp82LGjvmbNDjnC",
      "include_colab_link": true
    },
    "kernelspec": {
      "name": "python3",
      "display_name": "Python 3"
    },
    "language_info": {
      "name": "python"
    }
  },
  "cells": [
    {
      "cell_type": "markdown",
      "metadata": {
        "id": "view-in-github",
        "colab_type": "text"
      },
      "source": [
        "<a href=\"https://colab.research.google.com/github/EderLara/Python-B-sico-Talento-Tech/blob/main/Python_b%C3%A1sico_Talentotech.ipynb\" target=\"_parent\"><img src=\"https://colab.research.google.com/assets/colab-badge.svg\" alt=\"Open In Colab\"/></a>"
      ]
    },
    {
      "cell_type": "code",
      "execution_count": 10,
      "metadata": {
        "id": "nRF5CvrmcTzb"
      },
      "outputs": [],
      "source": [
        "# PEP8:\n",
        "# Identación:\n",
        "  # Desde Acá inicia la identación"
      ]
    },
    {
      "cell_type": "markdown",
      "source": [
        "# Cuaderno de Python Inicial\n",
        "\n",
        "Python es un lenguaje de programación interpretado."
      ],
      "metadata": {
        "id": "ZK-eUtEme3Gm"
      }
    },
    {
      "cell_type": "code",
      "source": [
        "# Variables:\n",
        "# Se escriben con la notación snake_case\n",
        "total_venta = 876000.32\n",
        "cantidad = 65\n",
        "mensaje = \"Hola Mundo!\"\n",
        "booleano = True\n",
        "print(type(total_venta), type(cantidad), type(mensaje), type(booleano))\n"
      ],
      "metadata": {
        "colab": {
          "base_uri": "https://localhost:8080/"
        },
        "id": "4THNp7HJe_Bq",
        "outputId": "812ed750-2d01-41b1-f24d-ef2ab203f98e"
      },
      "execution_count": 11,
      "outputs": [
        {
          "output_type": "stream",
          "name": "stdout",
          "text": [
            "<class 'float'> <class 'int'> <class 'str'> <class 'bool'>\n"
          ]
        }
      ]
    },
    {
      "cell_type": "code",
      "source": [
        "# Constantes:\n",
        "PI = 3.1416\n",
        "print(PI)\n",
        "DATABASE = 'https://pathurldatabase.com'\n",
        "DATABASE"
      ],
      "metadata": {
        "colab": {
          "base_uri": "https://localhost:8080/",
          "height": 53
        },
        "id": "fynh32SNhDZ1",
        "outputId": "c4a84789-988a-4162-a45b-1ded5432f632"
      },
      "execution_count": 9,
      "outputs": [
        {
          "output_type": "stream",
          "name": "stdout",
          "text": [
            "3.1416\n"
          ]
        },
        {
          "output_type": "execute_result",
          "data": {
            "text/plain": [
              "'https://pathurldatabase.com'"
            ],
            "application/vnd.google.colaboratory.intrinsic+json": {
              "type": "string"
            }
          },
          "metadata": {},
          "execution_count": 9
        }
      ]
    },
    {
      "cell_type": "markdown",
      "source": [
        "# ESTRUCTURAS DE CONTROL\n",
        "### if\n",
        "### for while"
      ],
      "metadata": {
        "id": "z2djBWWphC-N"
      }
    },
    {
      "cell_type": "code",
      "source": [
        "# Condicionales:\n",
        "condicion = False                  # Variable que condicionará la sentencia if\n",
        "mensaje = ''                      # Variable en la que capturamos el resultado\n",
        "if (condicion):\n",
        "  # codigo a ejecutar si la condicion es verdadera\n",
        "  mensaje = \"Hola Estudiantes de Talento Tech\"\n",
        "else:\n",
        "  # codigo a ejecutar si la condicion es falsa\n",
        "  mensaje = \"Bienvenido Foraneo\"\n",
        "\n",
        "print(mensaje)"
      ],
      "metadata": {
        "colab": {
          "base_uri": "https://localhost:8080/"
        },
        "id": "ozxfRWLlifZ7",
        "outputId": "bffa46b2-62d4-43f5-e8fe-ea2a5fd4580e"
      },
      "execution_count": 13,
      "outputs": [
        {
          "output_type": "stream",
          "name": "stdout",
          "text": [
            "Bienvenido Foraneo\n"
          ]
        }
      ]
    },
    {
      "cell_type": "code",
      "source": [
        "numero_condicion = 14\n",
        "resultado = ''\n",
        "if (numero_condicion < 5):\n",
        "  resultado = f'El numero es menor a 10, el numero es: {numero_condicion}'\n",
        "elif (numero_condicion > 10 and numero_condicion < 20):\n",
        "  resultado = f'El numero es mayor a 10, ya que el numero es {numero_condicion}'\n",
        "elif (numero_condicion == 10):\n",
        "  resultado = 'El numero es igual a 10'\n",
        "else:\n",
        "  resultado = 'El numero es mayor a 20'\n",
        "\n",
        "print(resultado)\n"
      ],
      "metadata": {
        "colab": {
          "base_uri": "https://localhost:8080/"
        },
        "id": "n2u0enG7jbcL",
        "outputId": "abd200bb-c444-458c-f62d-40c197583697"
      },
      "execution_count": 17,
      "outputs": [
        {
          "output_type": "stream",
          "name": "stdout",
          "text": [
            "El numero es mayor a 10, ya que el numero es 14\n"
          ]
        }
      ]
    },
    {
      "cell_type": "markdown",
      "source": [
        "Ejercicio 29:\n",
        "Una fábrica ha sido sometida a un programa de control de contaminación para lo cual se efectúa una revisión de\n",
        "los puntos IMECA generados por la fábrica. El programa de control de contaminación consiste en medir los puntos\n",
        "IMECA que emite la fabrica en cinco días de una semana y si el promedio es superior a los 170 puntos entonces\n",
        "tendrá la sanción de parar su producción por una semana y una multa del 50% de las ganancias diarias cuando no\n",
        "se detiene la producción. Si el promedio obtenido de puntos IMECA es de 170 o menor entonces no tendrá ni\n",
        "sanción ni multa. El dueño de la fábrica desea saber cuanto dinero perderá después de ser sometido a la revisión"
      ],
      "metadata": {
        "id": "N555vISnlTt6"
      }
    },
    {
      "cell_type": "code",
      "source": [
        "imeca_lunes = int(input('Ingrese el valor de IMECA '))\n",
        "imeca_martes = int(input('Ingrese el valor de IMECA '))\n",
        "imeca_miercoles = int(input('Ingrese el valor de IMECA '))\n",
        "imeca_jueves = int(input('Ingrese el valor de IMECA '))\n",
        "imeca_viernes = int(input('Ingrese el valor de IMECA '))"
      ],
      "metadata": {
        "colab": {
          "base_uri": "https://localhost:8080/"
        },
        "id": "B3e3IQSui-Um",
        "outputId": "ea80f47f-0966-481a-f8ba-cb32a622a92d"
      },
      "execution_count": 21,
      "outputs": [
        {
          "name": "stdout",
          "output_type": "stream",
          "text": [
            "Ingrese el valor de IMECA 190\n",
            "Ingrese el valor de IMECA 200\n",
            "Ingrese el valor de IMECA 600\n",
            "Ingrese el valor de IMECA 100\n",
            "Ingrese el valor de IMECA 90\n"
          ]
        }
      ]
    },
    {
      "cell_type": "code",
      "source": [
        "promedio_imeca = (imeca_lunes + imeca_martes + imeca_miercoles + imeca_jueves + imeca_viernes) / 5\n",
        "print(promedio_imeca)"
      ],
      "metadata": {
        "colab": {
          "base_uri": "https://localhost:8080/"
        },
        "id": "gKWoS6SxmfOg",
        "outputId": "cd007957-c79f-4925-cab7-ba2de3376264"
      },
      "execution_count": 22,
      "outputs": [
        {
          "output_type": "stream",
          "name": "stdout",
          "text": [
            "236.0\n"
          ]
        }
      ]
    },
    {
      "cell_type": "code",
      "source": [
        "ganancia_lunes = float(input('Ingrese la ganancia del día: '))\n",
        "ganancia_martes = float(input('Ingrese la ganancia del día: '))\n",
        "ganancia_miercoles = float(input('Ingrese la ganancia del día: '))\n",
        "ganancia_jueves = float(input('Ingrese la ganancia del día: '))\n",
        "ganancia_viernes = float(input('Ingrese la ganancia del día: '))"
      ],
      "metadata": {
        "colab": {
          "base_uri": "https://localhost:8080/"
        },
        "id": "LL4_Gg1LmyK4",
        "outputId": "7ff2ebfc-2a9c-4ff5-9daa-c326242fbcd6"
      },
      "execution_count": 23,
      "outputs": [
        {
          "name": "stdout",
          "output_type": "stream",
          "text": [
            "Ingrese la ganancia del día: 250\n",
            "Ingrese la ganancia del día: 300\n",
            "Ingrese la ganancia del día: 1200\n",
            "Ingrese la ganancia del día: 160\n",
            "Ingrese la ganancia del día: 100\n"
          ]
        }
      ]
    },
    {
      "cell_type": "code",
      "source": [
        "suma_ganancias = ganancia_lunes + ganancia_martes + ganancia_miercoles + ganancia_jueves + ganancia_viernes\n",
        "\n",
        "perdida = suma_ganancias * 0.5\n"
      ],
      "metadata": {
        "id": "-jx1ai9Cngk3"
      },
      "execution_count": 25,
      "outputs": []
    },
    {
      "cell_type": "code",
      "source": [
        "if (promedio_imeca > 170):\n",
        "  mensaje = f'Por haber obtenido un promedio de {promedio_imeca} en la escala IMECA, ud será multado con una semana de no operación \\nmas el pago de ${perdida} dolares. \\nPor favor tener en cuenta las recomendaciones de la auditoría'\n",
        "else:\n",
        "  mensaje = f'Por haber obtenido un promedio de {promedio_imeca} en la escala IMECA, ud no será multado'\n",
        "print('----------------- Resultado Auditoría -----------------')"
      ],
      "metadata": {
        "colab": {
          "base_uri": "https://localhost:8080/"
        },
        "id": "6oOg2ZqPx35E",
        "outputId": "53ce16f2-4430-47db-cd21-d34f75a4e519"
      },
      "execution_count": 32,
      "outputs": [
        {
          "output_type": "stream",
          "name": "stdout",
          "text": [
            "----------------- Resultado Auditoría -----------------\n"
          ]
        }
      ]
    },
    {
      "cell_type": "code",
      "source": [
        "print(mensaje)"
      ],
      "metadata": {
        "colab": {
          "base_uri": "https://localhost:8080/"
        },
        "id": "2Fesla9ZoFWR",
        "outputId": "753fb701-753f-4e00-ffb7-a5e829b66c6e"
      },
      "execution_count": 31,
      "outputs": [
        {
          "output_type": "stream",
          "name": "stdout",
          "text": [
            "Por haber obtenido un promedio de 236.0 en la escala IMECA, ud será multado con una semana de no operación \n",
            "mas el pago de $1005.0 dolares. \n",
            "Por favor tener en cuenta las recomendaciones de la auditoría\n"
          ]
        }
      ]
    },
    {
      "cell_type": "markdown",
      "source": [
        "# For - While"
      ],
      "metadata": {
        "id": "-v06nAjf9-Bu"
      }
    },
    {
      "cell_type": "code",
      "source": [
        "x =  10                   # Iniciamos una variable con un número\n",
        "for i in range(x):        # usamos la sentencia for para hacer un barrido hasta la variable x\n",
        "  print(i)                # imprimimos cada iteración"
      ],
      "metadata": {
        "colab": {
          "base_uri": "https://localhost:8080/"
        },
        "id": "6Cr4r8zC-F2s",
        "outputId": "2646e2b4-56dd-4da6-ee7c-41901aefe7db"
      },
      "execution_count": 34,
      "outputs": [
        {
          "output_type": "stream",
          "name": "stdout",
          "text": [
            "0\n",
            "1\n",
            "2\n",
            "3\n",
            "4\n",
            "5\n",
            "6\n",
            "7\n",
            "8\n",
            "9\n",
            "1\n",
            "3\n",
            "5\n",
            "7\n",
            "9\n"
          ]
        }
      ]
    },
    {
      "cell_type": "code",
      "source": [
        "for i in range(0, 11, 3):       # En este caso usamos la funcion range con el paso de parametros:\n",
        "  print(i)                      # range(inicio, termina, paso)\n",
        "\n",
        "# En este for lo que hacemos es indicarle al rango con que numero inicia hasta donde termina y cada cuanto itera"
      ],
      "metadata": {
        "colab": {
          "base_uri": "https://localhost:8080/"
        },
        "id": "p-T3fQJY-noV",
        "outputId": "89a4476e-2566-47dd-912d-2d499f72565b"
      },
      "execution_count": 42,
      "outputs": [
        {
          "output_type": "stream",
          "name": "stdout",
          "text": [
            "0\n",
            "3\n",
            "6\n",
            "9\n"
          ]
        }
      ]
    },
    {
      "cell_type": "code",
      "source": [
        "bandera = 10\n",
        "while(bandera < 20):\n",
        "  print(bandera)\n",
        "  bandera += 1.5"
      ],
      "metadata": {
        "colab": {
          "base_uri": "https://localhost:8080/"
        },
        "id": "YtK1A2P__R-r",
        "outputId": "7080443c-6ccc-425f-f617-31cac41666ff"
      },
      "execution_count": 46,
      "outputs": [
        {
          "output_type": "stream",
          "name": "stdout",
          "text": [
            "10\n",
            "13.5\n",
            "17.0\n"
          ]
        }
      ]
    },
    {
      "cell_type": "code",
      "source": [
        "texto = \"Este es un texto cualquiera\"\n",
        "total = 0\n",
        "for letra in texto:\n",
        "  if letra.lower() == \"e\":\n",
        "    total += 1\n",
        "    continue\n",
        "  print(letra)\n",
        "\n",
        "mensaje = f'Hemos encontrato un total de {total} de letras \"e\"'\n",
        "print(mensaje)"
      ],
      "metadata": {
        "colab": {
          "base_uri": "https://localhost:8080/"
        },
        "id": "Yo0rjI-O-6Gm",
        "outputId": "c3fdb920-3734-4dd0-d32b-d65ee7e90a4f"
      },
      "execution_count": 5,
      "outputs": [
        {
          "output_type": "stream",
          "name": "stdout",
          "text": [
            "s\n",
            "t\n",
            " \n",
            "s\n",
            " \n",
            "u\n",
            "n\n",
            " \n",
            "t\n",
            "x\n",
            "t\n",
            "o\n",
            " \n",
            "c\n",
            "u\n",
            "a\n",
            "l\n",
            "q\n",
            "u\n",
            "i\n",
            "r\n",
            "a\n",
            "Hemos encontrato un total de 5 de letras \"e\"\n"
          ]
        }
      ]
    },
    {
      "cell_type": "code",
      "source": [
        "for letter in texto:\n",
        "  if letter == \"x\":\n",
        "    break\n",
        "  print(f'Hemos llegado hasta la letra {letter}')"
      ],
      "metadata": {
        "colab": {
          "base_uri": "https://localhost:8080/"
        },
        "id": "FlDdteVR52ll",
        "outputId": "13a3195a-3f91-4406-eba7-9d3c16807cb0"
      },
      "execution_count": 6,
      "outputs": [
        {
          "output_type": "stream",
          "name": "stdout",
          "text": [
            "Hemos llegado hasta la letra E\n",
            "Hemos llegado hasta la letra s\n",
            "Hemos llegado hasta la letra t\n",
            "Hemos llegado hasta la letra e\n",
            "Hemos llegado hasta la letra  \n",
            "Hemos llegado hasta la letra e\n",
            "Hemos llegado hasta la letra s\n",
            "Hemos llegado hasta la letra  \n",
            "Hemos llegado hasta la letra u\n",
            "Hemos llegado hasta la letra n\n",
            "Hemos llegado hasta la letra  \n",
            "Hemos llegado hasta la letra t\n",
            "Hemos llegado hasta la letra e\n"
          ]
        }
      ]
    },
    {
      "cell_type": "code",
      "source": [
        "# Ejemplo de un login en python:\n",
        "usuario = 'eder@mail.com'\n",
        "contrasena = '123456'"
      ],
      "metadata": {
        "id": "k1iOfkuD62yZ"
      },
      "execution_count": 8,
      "outputs": []
    },
    {
      "cell_type": "code",
      "source": [
        "while(True):\n",
        "  user = input('Ingrese su usuario: ')\n",
        "  if user == usuario:\n",
        "    passwd = input('Ingrese su contraseña: ')\n",
        "    if passwd == contrasena:\n",
        "      print('Bienvenido al sistema')\n",
        "      break\n",
        "    else:\n",
        "      print('Contraseña incorrecta')\n",
        "    continue\n",
        "  else:\n",
        "    print('Usuario incorrecto')"
      ],
      "metadata": {
        "colab": {
          "base_uri": "https://localhost:8080/"
        },
        "id": "SWp2rw8P7L3K",
        "outputId": "f566fb66-00a2-4640-9a06-2856e2201e07"
      },
      "execution_count": 9,
      "outputs": [
        {
          "output_type": "stream",
          "name": "stdout",
          "text": [
            "Ingrese su usuario: Juan\n",
            "Usuario incorrecto\n",
            "Ingrese su usuario: juan\n",
            "Usuario incorrecto\n",
            "Ingrese su usuario: juan\n",
            "Usuario incorrecto\n",
            "Ingrese su usuario: juan\n",
            "Usuario incorrecto\n",
            "Ingrese su usuario: eder@mail.com\n",
            "Ingrese su contraseña: hola\n",
            "Contraseña incorrecta\n",
            "Ingrese su usuario: eder@mail.com\n",
            "Ingrese su contraseña: 123456\n",
            "Bienvenido al sistema\n"
          ]
        }
      ]
    },
    {
      "cell_type": "markdown",
      "source": [
        "## Estructuras de datos\n",
        "\n",
        "\n",
        "*   Listas\n",
        "*   Tuplas\n",
        "*   Conjuntos\n",
        "*   Diccionarios\n",
        "\n"
      ],
      "metadata": {
        "id": "Nnvig0Qe8pxJ"
      }
    },
    {
      "cell_type": "code",
      "source": [
        "lista = [\"Texto\", 87, 89.7, True, [1, 2, 3]]\n",
        "print(lista)"
      ],
      "metadata": {
        "colab": {
          "base_uri": "https://localhost:8080/"
        },
        "id": "Jp23_LBj87Fe",
        "outputId": "4cb1cb0b-9ec0-4c28-ccb1-2d733e2d2f14"
      },
      "execution_count": 43,
      "outputs": [
        {
          "output_type": "stream",
          "name": "stdout",
          "text": [
            "['Texto', 87, 89.7, True, [1, 2, 3]]\n"
          ]
        }
      ]
    },
    {
      "cell_type": "code",
      "source": [
        "type(lista[4])"
      ],
      "metadata": {
        "colab": {
          "base_uri": "https://localhost:8080/"
        },
        "id": "j-U1Gdhc9qWO",
        "outputId": "bc1f592e-8361-4485-f92c-2085273a999f"
      },
      "execution_count": 18,
      "outputs": [
        {
          "output_type": "execute_result",
          "data": {
            "text/plain": [
              "list"
            ]
          },
          "metadata": {},
          "execution_count": 18
        }
      ]
    },
    {
      "cell_type": "code",
      "source": [
        "for item in lista:\n",
        "  print(f'El elemento {item} es de tipo {type(item)}')\n",
        "  if type(item) == list:\n",
        "    for subitem in item:\n",
        "      print(f'El elemento {subitem} es de tipo {type(subitem)}')"
      ],
      "metadata": {
        "colab": {
          "base_uri": "https://localhost:8080/"
        },
        "id": "vGXkpbsu9fmF",
        "outputId": "78aa7965-8900-49cb-e441-08f96f3eb96c"
      },
      "execution_count": 26,
      "outputs": [
        {
          "output_type": "stream",
          "name": "stdout",
          "text": [
            "El elemento Texto es de tipo <class 'str'>\n",
            "El elemento 87 es de tipo <class 'int'>\n",
            "El elemento 89.7 es de tipo <class 'float'>\n",
            "El elemento True es de tipo <class 'bool'>\n",
            "El elemento [1, 2, 3] es de tipo <class 'list'>\n",
            "El elemento 1 es de tipo <class 'int'>\n",
            "El elemento 2 es de tipo <class 'int'>\n",
            "El elemento 3 es de tipo <class 'int'>\n"
          ]
        }
      ]
    },
    {
      "cell_type": "code",
      "source": [
        "lista"
      ],
      "metadata": {
        "colab": {
          "base_uri": "https://localhost:8080/"
        },
        "id": "-vd6MYRt-2b2",
        "outputId": "9d20cb14-6ead-42a7-f52f-95ac5abe5ae5"
      },
      "execution_count": 44,
      "outputs": [
        {
          "output_type": "execute_result",
          "data": {
            "text/plain": [
              "['Texto', 87, 89.7, True, [1, 2, 3]]"
            ]
          },
          "metadata": {},
          "execution_count": 44
        }
      ]
    },
    {
      "cell_type": "code",
      "source": [
        "# Métodos de listas:\n",
        "# Agregar elementos a la lista:\n",
        "lista.append('Nuevo elemento')\n",
        "print(lista)"
      ],
      "metadata": {
        "colab": {
          "base_uri": "https://localhost:8080/"
        },
        "id": "2P0iFQbh_M2j",
        "outputId": "ea9d61b4-743f-4736-ec77-d95807f8672d"
      },
      "execution_count": 51,
      "outputs": [
        {
          "output_type": "stream",
          "name": "stdout",
          "text": [
            "['Texto', 87, 89.7, True, [1, 2, 3], 'Nuevo elemento', 'Nuevo elemento']\n"
          ]
        }
      ]
    },
    {
      "cell_type": "code",
      "source": [
        "# Eliminar el último elemento de la lista\n",
        "lista.pop()\n",
        "print(lista)"
      ],
      "metadata": {
        "colab": {
          "base_uri": "https://localhost:8080/"
        },
        "id": "cXuxku_aAGP1",
        "outputId": "8de80ccb-adc4-4045-deac-fef1582d10e9"
      },
      "execution_count": 52,
      "outputs": [
        {
          "output_type": "stream",
          "name": "stdout",
          "text": [
            "['Texto', 87, 89.7, True, [1, 2, 3], 'Nuevo elemento']\n"
          ]
        }
      ]
    },
    {
      "cell_type": "code",
      "source": [
        "# Insertar elementos en una posición especifica:\n",
        "lista.insert(3,'Elemento Insertado')\n",
        "lista"
      ],
      "metadata": {
        "colab": {
          "base_uri": "https://localhost:8080/"
        },
        "id": "G0tvqJp1AfDt",
        "outputId": "a26e23e3-6fd7-4062-c910-93015b604301"
      },
      "execution_count": 53,
      "outputs": [
        {
          "output_type": "execute_result",
          "data": {
            "text/plain": [
              "['Texto', 87, 89.7, 'Elemento Insertado', True, [1, 2, 3], 'Nuevo elemento']"
            ]
          },
          "metadata": {},
          "execution_count": 53
        }
      ]
    },
    {
      "cell_type": "code",
      "source": [
        "lista.pop(3)"
      ],
      "metadata": {
        "colab": {
          "base_uri": "https://localhost:8080/",
          "height": 35
        },
        "id": "bupSXSoIA1IO",
        "outputId": "07206b6d-6104-4845-c92d-653f061c8525"
      },
      "execution_count": 54,
      "outputs": [
        {
          "output_type": "execute_result",
          "data": {
            "text/plain": [
              "'Elemento Insertado'"
            ],
            "application/vnd.google.colaboratory.intrinsic+json": {
              "type": "string"
            }
          },
          "metadata": {},
          "execution_count": 54
        }
      ]
    },
    {
      "cell_type": "markdown",
      "source": [
        "Taller\n",
        "Crear elementos para almacenar máximo 5 datos de un formulario de registro que tenga nombres, apellidos, correos, contraseñas:\n"
      ],
      "metadata": {
        "id": "Tx2AN3uqBHPb"
      }
    },
    {
      "cell_type": "code",
      "source": [
        "# Solución:\n",
        "nombres = []\n",
        "apellidos = []\n",
        "correos = []\n",
        "contrasenas = []\n",
        "\n",
        "while(True):\n",
        "  nombre = input('Ingrese su nombre: ')\n",
        "  nombres.append(nombre)\n",
        "  apellido = input('Ingrese su Apellido: ')\n",
        "  apellidos.append(apellido)\n",
        "  correo = input('Ingrese su correo: ')\n",
        "  correos.append(correo)\n",
        "  contrasena = input('Ingrese su contraseña: ')\n",
        "  contrasenas.append(contrasena)\n",
        "\n",
        "  if len(nombres) == 5 and len(apellidos) == 5 and len(correos) == 5 and len(contrasenas) == 5:\n",
        "    break\n",
        "  else:\n",
        "    continue\n",
        "\n",
        "\n"
      ],
      "metadata": {
        "colab": {
          "base_uri": "https://localhost:8080/"
        },
        "id": "9QQiltmQBGaI",
        "outputId": "ec2c806c-7528-4ca4-e321-e6a330d10af1"
      },
      "execution_count": 55,
      "outputs": [
        {
          "name": "stdout",
          "output_type": "stream",
          "text": [
            "Ingrese su nombre: Eder\n",
            "Ingrese su Apellido: Lara\n",
            "Ingrese su correo: eder@mail.com\n",
            "Ingrese su contraseña: 12345\n",
            "Ingrese su nombre: Juan\n",
            "Ingrese su Apellido: Morales\n",
            "Ingrese su correo: juan@mail.com\n",
            "Ingrese su contraseña: 12345\n",
            "Ingrese su nombre: Diana\n",
            "Ingrese su Apellido: Martinez\n",
            "Ingrese su correo: diana@12345\n",
            "Ingrese su contraseña: 12345\n",
            "Ingrese su nombre: Helen\n",
            "Ingrese su Apellido: Lara\n",
            "Ingrese su correo: helen@mail.com\n",
            "Ingrese su contraseña: 12345\n",
            "Ingrese su nombre: Tania\n",
            "Ingrese su Apellido: Rodriguez\n",
            "Ingrese su correo: tata@mail.com\n",
            "Ingrese su contraseña: 12345\n"
          ]
        }
      ]
    },
    {
      "cell_type": "code",
      "source": [
        "# Operando con datos en la lista:\n",
        "indice_nombre = 0\n",
        "indice_correo = 0\n",
        "indice_pass = 0\n",
        "for nombre in nombres:\n",
        "  indice_nombre +=1\n",
        "  print(f'El nombre {nombre} se encuentra en el posicion {indice_nombre}')\n",
        "\n",
        "for correo in correos:\n",
        "  indice_correo +=1\n",
        "  print(f'El correo {correo} se encuentra en el posicion {indice_correo}')\n",
        "  print(correo)\n",
        "\n",
        "for contrasena in contrasenas:\n",
        "  indice_pass +=1\n",
        "  print(f'La contraseña {contrasena} se encuentra en el posicion {indice_pass}')\n",
        "  print(contrasena)"
      ],
      "metadata": {
        "colab": {
          "base_uri": "https://localhost:8080/"
        },
        "id": "G43qoFRuH0Rh",
        "outputId": "bebee42b-9863-47ab-d334-9d8a3bc6a856"
      },
      "execution_count": 65,
      "outputs": [
        {
          "output_type": "stream",
          "name": "stdout",
          "text": [
            "El nombre Eder se encuentra en el posicion 1\n",
            "El nombre Juan se encuentra en el posicion 2\n",
            "El nombre Diana se encuentra en el posicion 3\n",
            "El nombre Helen se encuentra en el posicion 4\n",
            "El nombre Tania se encuentra en el posicion 5\n",
            "El correo eder@mail.com se encuentra en el posicion 1\n",
            "eder@mail.com\n",
            "El correo juan@mail.com se encuentra en el posicion 2\n",
            "juan@mail.com\n",
            "El correo diana@12345 se encuentra en el posicion 3\n",
            "diana@12345\n",
            "El correo helen@mail.com se encuentra en el posicion 4\n",
            "helen@mail.com\n",
            "El correo tata@mail.com se encuentra en el posicion 5\n",
            "tata@mail.com\n",
            "La contraseña 12345 se encuentra en el posicion 1\n",
            "12345\n",
            "La contraseña 12345 se encuentra en el posicion 2\n",
            "12345\n",
            "La contraseña 12345 se encuentra en el posicion 3\n",
            "12345\n",
            "La contraseña 12345 se encuentra en el posicion 4\n",
            "12345\n",
            "La contraseña 12345 se encuentra en el posicion 5\n",
            "12345\n"
          ]
        }
      ]
    },
    {
      "cell_type": "code",
      "source": [
        "index_correo = 0\n",
        "index_pass = 0\n",
        "\n",
        "while(True):\n",
        "  email = input('Ingrese su correo Electrónico')\n",
        "  if email in correos:\n",
        "    index_correo = correos.index(email)\n",
        "    print('Correo Encontrado')\n",
        "    passuser = input('Ingrese su contraseña')\n",
        "    if passuser in contrasenas:\n",
        "      index_pass = contrasenas.index(passuser)\n",
        "      if index_correo == index_pass:\n",
        "        print('Bienvenido al sistema')\n",
        "        break\n",
        "      else:\n",
        "        print('Contraseña Incorrecta')\n",
        ""
      ],
      "metadata": {
        "colab": {
          "base_uri": "https://localhost:8080/"
        },
        "id": "EGkEaeSiJ8nJ",
        "outputId": "58a028e3-9ab9-4f1d-b8c1-908763b79543"
      },
      "execution_count": 66,
      "outputs": [
        {
          "output_type": "stream",
          "name": "stdout",
          "text": [
            "Ingrese su correo Electrónicoeder@mail.com\n",
            "Correo Encontrado\n",
            "Ingrese su contraseña123456\n",
            "Ingrese su correo Electrónicoeder@mail.com\n",
            "Correo Encontrado\n",
            "Ingrese su contraseña12345\n",
            "Bienvenido al sistema\n"
          ]
        }
      ]
    },
    {
      "cell_type": "code",
      "source": [
        "from random import random, randint        # Importamos la libreria de aleatorios:\n",
        "\n",
        "limite = 50                               # Definimos cual es el limite que tendrá el vector\n",
        "vector = []                               # Creamos una variable tipo lista vacia\n",
        "\n",
        "for i in range(limite):\n",
        "  vector.append(randint(10,300))          # Recorremos hasta llegar a los 50 elementos y\n",
        "                                          # C/U será agregado al vector.\n",
        "\n",
        "\n",
        "print(vector)\n",
        "total = sum(vector)\n",
        "print(f'La suma del vector es: {total} con {len(vector)} elementos')\n",
        "promedio = total / len(vector)\n",
        "print(f'El promedio del vector es: {promedio}')\n",
        "\n",
        "mayor_promedio = 0\n",
        "lista_elementos_mayor_promedio = []\n",
        "\n",
        "for elemento in vector:                               # Recorremos el vector para validar\n",
        "  if elemento > promedio:                             # cuales elementos son mas grandes que el promedio\n",
        "    lista_elementos_mayor_promedio.append(elemento)\n",
        "    mayor_promedio += 1                               # Contamos y agregamos al contador\n",
        "\n",
        "print(f'La cantidad de elementos mayores al promedio son: {mayor_promedio}')\n",
        "print(f'Los elementos mayores al promedio son: {lista_elementos_mayor_promedio}')"
      ],
      "metadata": {
        "colab": {
          "base_uri": "https://localhost:8080/"
        },
        "id": "cnKaPkypM0Y6",
        "outputId": "94926c15-e4c1-4cd0-f90c-409992777526"
      },
      "execution_count": 87,
      "outputs": [
        {
          "output_type": "stream",
          "name": "stdout",
          "text": [
            "[207, 73, 92, 64, 297, 149, 36, 177, 106, 153, 114, 137, 150, 268, 259, 86, 160, 155, 54, 123, 291, 89, 117, 286, 13, 150, 135, 164, 226, 76, 226, 229, 20, 223, 211, 177, 261, 39, 295, 90, 239, 272, 296, 53, 173, 154, 34, 96, 232, 186]\n",
            "La suma del vector es: 7913 con 50 elementos\n",
            "El promedio del vector es: 158.26\n",
            "La cantidad de elementos mayores al promedio son: 23\n",
            "Los elementos mayores al promedio son: [207, 297, 177, 268, 259, 160, 291, 286, 164, 226, 226, 229, 223, 211, 177, 261, 295, 239, 272, 296, 173, 232, 186]\n"
          ]
        }
      ]
    },
    {
      "cell_type": "code",
      "source": [
        "from random import random, randint\n",
        "\n",
        "val= randint(10,300)\n",
        "print(val)"
      ],
      "metadata": {
        "colab": {
          "base_uri": "https://localhost:8080/"
        },
        "id": "a9mGwRkvM6AI",
        "outputId": "25eda512-7032-4a9d-fbdd-b33af1f673d9"
      },
      "execution_count": 78,
      "outputs": [
        {
          "output_type": "stream",
          "name": "stdout",
          "text": [
            "105\n"
          ]
        }
      ]
    },
    {
      "cell_type": "markdown",
      "source": [
        "Llenar dos vectores A y B de 45 elementos cada uno, sumar el elemento uno del vector A con el elemento uno del\n",
        "vector B y así sucesivamente hasta 45, almacenar el resultado en un vector C, e imprimir el vector resultante."
      ],
      "metadata": {
        "id": "ubyMnD5DT7we"
      }
    },
    {
      "cell_type": "code",
      "source": [
        "a = []                                        # Creamos el lista a\n",
        "b = []                                        # Creamos el lista b\n",
        "\n",
        "limit = 45                                    # Marcamos el limite de los elementos de cada lista\n",
        "\n",
        "for iteracion in range(limit):                # Con for, llenamos los elementos de cada lista\n",
        "  a.append(randint(10,20))\n",
        "  b.append(randint(30,40))\n",
        "\n",
        "print(a)                                      # Imprimimos la lista a\n",
        "print(b)                                      # Imprimimos la lista b"
      ],
      "metadata": {
        "colab": {
          "base_uri": "https://localhost:8080/"
        },
        "id": "gWKe6vbkROEw",
        "outputId": "7f7a39e1-a74f-45ee-bc3b-2e1e1a3f96ad"
      },
      "execution_count": 88,
      "outputs": [
        {
          "output_type": "stream",
          "name": "stdout",
          "text": [
            "[15, 11, 17, 20, 18, 18, 17, 13, 17, 20, 17, 16, 11, 15, 13, 15, 20, 14, 12, 19, 17, 12, 12, 16, 12, 20, 10, 16, 11, 16, 20, 15, 20, 14, 13, 16, 17, 11, 12, 17, 15, 18, 15, 15, 12]\n",
            "[30, 30, 40, 36, 40, 31, 33, 34, 34, 38, 32, 32, 37, 37, 35, 36, 39, 31, 34, 33, 34, 37, 36, 33, 39, 37, 36, 34, 32, 39, 35, 35, 35, 38, 35, 31, 37, 35, 40, 31, 32, 35, 30, 34, 39]\n"
          ]
        }
      ]
    },
    {
      "cell_type": "code",
      "source": [
        "resultado = []                                # Creamos una lista vacia con los resultados\n",
        "for i, j in zip(a, b):\n",
        "  print(f'sumaremos el elemento {i} y el elemento {j}')\n",
        "  resultado.append(i + j)                     #\n",
        "\n",
        "print(resultado)"
      ],
      "metadata": {
        "colab": {
          "base_uri": "https://localhost:8080/"
        },
        "id": "9pprDHdJTW7y",
        "outputId": "9ef446a3-9109-4c0a-e552-998faab7b508"
      },
      "execution_count": 92,
      "outputs": [
        {
          "output_type": "stream",
          "name": "stdout",
          "text": [
            "sumaremos el elemento 15 y el elemento 30\n",
            "sumaremos el elemento 11 y el elemento 30\n",
            "sumaremos el elemento 17 y el elemento 40\n",
            "sumaremos el elemento 20 y el elemento 36\n",
            "sumaremos el elemento 18 y el elemento 40\n",
            "sumaremos el elemento 18 y el elemento 31\n",
            "sumaremos el elemento 17 y el elemento 33\n",
            "sumaremos el elemento 13 y el elemento 34\n",
            "sumaremos el elemento 17 y el elemento 34\n",
            "sumaremos el elemento 20 y el elemento 38\n",
            "sumaremos el elemento 17 y el elemento 32\n",
            "sumaremos el elemento 16 y el elemento 32\n",
            "sumaremos el elemento 11 y el elemento 37\n",
            "sumaremos el elemento 15 y el elemento 37\n",
            "sumaremos el elemento 13 y el elemento 35\n",
            "sumaremos el elemento 15 y el elemento 36\n",
            "sumaremos el elemento 20 y el elemento 39\n",
            "sumaremos el elemento 14 y el elemento 31\n",
            "sumaremos el elemento 12 y el elemento 34\n",
            "sumaremos el elemento 19 y el elemento 33\n",
            "sumaremos el elemento 17 y el elemento 34\n",
            "sumaremos el elemento 12 y el elemento 37\n",
            "sumaremos el elemento 12 y el elemento 36\n",
            "sumaremos el elemento 16 y el elemento 33\n",
            "sumaremos el elemento 12 y el elemento 39\n",
            "sumaremos el elemento 20 y el elemento 37\n",
            "sumaremos el elemento 10 y el elemento 36\n",
            "sumaremos el elemento 16 y el elemento 34\n",
            "sumaremos el elemento 11 y el elemento 32\n",
            "sumaremos el elemento 16 y el elemento 39\n",
            "sumaremos el elemento 20 y el elemento 35\n",
            "sumaremos el elemento 15 y el elemento 35\n",
            "sumaremos el elemento 20 y el elemento 35\n",
            "sumaremos el elemento 14 y el elemento 38\n",
            "sumaremos el elemento 13 y el elemento 35\n",
            "sumaremos el elemento 16 y el elemento 31\n",
            "sumaremos el elemento 17 y el elemento 37\n",
            "sumaremos el elemento 11 y el elemento 35\n",
            "sumaremos el elemento 12 y el elemento 40\n",
            "sumaremos el elemento 17 y el elemento 31\n",
            "sumaremos el elemento 15 y el elemento 32\n",
            "sumaremos el elemento 18 y el elemento 35\n",
            "sumaremos el elemento 15 y el elemento 30\n",
            "sumaremos el elemento 15 y el elemento 34\n",
            "sumaremos el elemento 12 y el elemento 39\n",
            "[45, 41, 57, 56, 58, 49, 50, 47, 51, 58, 49, 48, 48, 52, 48, 51, 59, 45, 46, 52, 51, 49, 48, 49, 51, 57, 46, 50, 43, 55, 55, 50, 55, 52, 48, 47, 54, 46, 52, 48, 47, 53, 45, 49, 51]\n"
          ]
        }
      ]
    }
  ]
}